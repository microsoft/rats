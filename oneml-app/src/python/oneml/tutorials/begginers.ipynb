{
 "cells": [
  {
   "cell_type": "markdown",
   "id": "25d57d46-5ecc-4082-a0fa-11e7ca3964c7",
   "metadata": {},
   "source": [
    "# Beginners Tutorial"
   ]
  },
  {
   "cell_type": "markdown",
   "id": "cbb99f76-6e04-49d4-8893-fe7c33d5282d",
   "metadata": {
    "execution": {
     "iopub.execute_input": "2022-11-23T17:42:06.816994Z",
     "iopub.status.busy": "2022-11-23T17:42:06.816052Z",
     "iopub.status.idle": "2022-11-23T17:42:06.822453Z",
     "shell.execute_reply": "2022-11-23T17:42:06.821201Z",
     "shell.execute_reply.started": "2022-11-23T17:42:06.816959Z"
    }
   },
   "source": [
    "## \"Hello World\" Example\n",
    "\n",
    "Let's start writing the most simple pipeline that takes no inputs or outputs and prints\n",
    "`\"Hello World\"` on screen.\n",
    "\n",
    "The first step is to write a *processor* with the printing functionality.\n",
    "We need to define a `process` method with no input and no output.\n"
   ]
  },
  {
   "cell_type": "code",
   "execution_count": null,
   "id": "ed4b01d1-616d-48c3-a1bd-de2cf7b46c69",
   "metadata": {
    "execution": {
     "iopub.execute_input": "2022-11-23T18:06:26.334142Z",
     "iopub.status.busy": "2022-11-23T18:06:26.333551Z",
     "iopub.status.idle": "2022-11-23T18:06:26.340543Z",
     "shell.execute_reply": "2022-11-23T18:06:26.339574Z",
     "shell.execute_reply.started": "2022-11-23T18:06:26.334050Z"
    },
    "tags": []
   },
   "outputs": [],
   "source": [
    "class HelloWorld:\n",
    "    def process(self) -> None:\n",
    "        print(\"Hello World\")"
   ]
  },
  {
   "cell_type": "markdown",
   "id": "66efa7cf-d210-47db-99b4-2cb232787d4e",
   "metadata": {},
   "source": [
    "To create a pipeline and run it, we can use the following lines:"
   ]
  },
  {
   "cell_type": "code",
   "execution_count": null,
   "id": "153de28a-8cd8-4b24-8108-e8c6093f7fda",
   "metadata": {
    "execution": {
     "iopub.execute_input": "2022-11-23T18:11:05.685746Z",
     "iopub.status.busy": "2022-11-23T18:11:05.685264Z",
     "iopub.status.idle": "2022-11-23T18:11:05.709817Z",
     "shell.execute_reply": "2022-11-23T18:11:05.709050Z",
     "shell.execute_reply.started": "2022-11-23T18:11:05.685717Z"
    },
    "tags": []
   },
   "outputs": [],
   "source": [
    "from oneml.processors import PipelineBuilder, PipelineRunner\n",
    "\n",
    "hello_world = PipelineBuilder.task(HelloWorld, \"hello_world\")  # creates a pipeline of single node\n",
    "runner = PipelineRunner(hello_world)  # creates a runner for the given pipeline\n",
    "runner()  # runs the pipeline"
   ]
  },
  {
   "cell_type": "markdown",
   "id": "67872fb8-3b6a-47cd-9298-43eb5f3f0caa",
   "metadata": {},
   "source": [
    "## \"Diamond\" Pipeline Example\n",
    "\n",
    "Consider now we have four classes, i.e., `A`, `B`, `C` and `D` with some inputs and outputs and we\n",
    "want to connect them following a diamond-based shape:\n",
    "\n",
    "```\n",
    "    A           B <- A\n",
    "   / \\          C <- A\n",
    "  B   C         D <- B \n",
    "   \\ /          D <- C\n",
    "    D\n",
    "```\n",
    "\n",
    "We have the following classes and declared outputs:\n"
   ]
  },
  {
   "cell_type": "code",
   "execution_count": null,
   "id": "2359d8d0-9ea3-4e58-b95b-c6aa60bcf03c",
   "metadata": {
    "execution": {
     "iopub.execute_input": "2022-11-23T18:11:07.582544Z",
     "iopub.status.busy": "2022-11-23T18:11:07.582047Z",
     "iopub.status.idle": "2022-11-23T18:11:07.589023Z",
     "shell.execute_reply": "2022-11-23T18:11:07.588312Z",
     "shell.execute_reply.started": "2022-11-23T18:11:07.582516Z"
    },
    "tags": []
   },
   "outputs": [],
   "source": [
    "from typing import Any, TypedDict\n",
    "\n",
    "AOutput = TypedDict(\"AOutput\", {\"Z1\": float, \"Z2\": float})\n",
    "BOutput = TypedDict(\"BOutput\", {\"Z\": float})\n",
    "COutput = TypedDict(\"COutput\", {\"Z\": float})\n",
    "\n",
    "class A:\n",
    "    def process(self) -> AOutput:\n",
    "        ...\n",
    "\n",
    "class B:\n",
    "    def process(self, X: Any) -> BOutput:\n",
    "        ...\n",
    "\n",
    "class C:\n",
    "    def process(self, X: Any) -> COutput:\n",
    "        ...\n",
    "\n",
    "class D:\n",
    "    def process(self, X1: Any, X2: Any) -> None:\n",
    "        ..."
   ]
  },
  {
   "cell_type": "markdown",
   "id": "27601393-765f-4ce0-9caa-79146e1b1fde",
   "metadata": {},
   "source": [
    "*Processors* can have arbitrary inputs, in this case we have processors with empty, single, single\n",
    "and two inputs, respectively.\n",
    "\n",
    "*Processors* declare their outputs too.\n",
    "To declare outputs, the `process` method needs to return a mapping with variable names and values,\n",
    "i.e., `Mapping[str, Any]`, or `None`.\n",
    "`TypedDict` is a useful built-in type to declare the variable names and types, which we used to\n",
    "specify that *processor* `A` returns two outputs, `B` and `C` return a single output, and `D`\n",
    "returns nothing.\n",
    "\n",
    "Once we have written our *processor* classes, we need to create a pipeline and run it.\n",
    "We start by creating a single node pipeline per *processor*, which we refer as a *task*.\n",
    "Then we combine all 4 *tasks* into a single pipeline by declaring the input/output *dependencies*\n",
    "that exist between *tasks*:\n"
   ]
  },
  {
   "cell_type": "code",
   "execution_count": null,
   "id": "6c198973-aa69-408f-82ad-7bf8b753788f",
   "metadata": {
    "execution": {
     "iopub.execute_input": "2022-11-23T18:11:13.007673Z",
     "iopub.status.busy": "2022-11-23T18:11:13.007027Z",
     "iopub.status.idle": "2022-11-23T18:11:13.057015Z",
     "shell.execute_reply": "2022-11-23T18:11:13.056237Z",
     "shell.execute_reply.started": "2022-11-23T18:11:13.007641Z"
    },
    "tags": []
   },
   "outputs": [],
   "source": [
    "from oneml.processors import PipelineBuilder, PipelineRunner, display_dag\n",
    "\n",
    "a = PipelineBuilder.task(A, \"A\")\n",
    "b = PipelineBuilder.task(B, \"B\")\n",
    "c = PipelineBuilder.task(C, \"C\")\n",
    "d = PipelineBuilder.task(D, \"D\")\n",
    "\n",
    "diamond = PipelineBuilder.combine(\n",
    "    a, b, c, d,\n",
    "    dependencies=(\n",
    "        b.inputs.X << a.outputs.Z1,\n",
    "        c.inputs.X << a.outputs.Z2,\n",
    "        d.inputs.X1 << b.outputs.Z,\n",
    "        d.inputs.X2 << c.outputs.Z,\n",
    "    ),\n",
    "    name=\"diamond\"\n",
    ")\n",
    "\n",
    "display_dag(diamond) # displays the pipeline"
   ]
  },
  {
   "cell_type": "markdown",
   "id": "a70f0f39-1ee3-434e-a9e5-7424bae8ead5",
   "metadata": {},
   "source": [
    "We have seen in these examplea that pipelines, whether made from a single node or multiple, expose\n",
    "*inputs* and *outputs*, and we can access them directly to create dependencies between different\n",
    "pipelines.\n",
    "The *left-shift* and *right-shift* notation, i.e., `<<`, `>>`, respectively, are the operators that\n",
    "to create such *dependencies*, which will return a tuple holding the *dependency* information.\n",
    "\n",
    "If the user accesses an input or output that do not exist, or confuses the direction of the\n",
    "dependency, a run-time error will be raised.\n",
    "This is why we have to declare the inputs and outputs of *processors*.\n"
   ]
  },
  {
   "cell_type": "markdown",
   "id": "a5b04aaf-c6cb-4dd3-869c-3a46b7877f02",
   "metadata": {},
   "source": [
    "## Standardized Logistic Regression Example\n",
    "\n",
    "We are now going to build a standardized logistic example where we have two sources for input,\n",
    "i.e., *train* and *eval*.\n",
    "We will also show how to build pipelines of more than a single node, and how to connect these into\n",
    "larger pipelines.\n",
    "\n",
    "This is the resulting pipeline we want to build:\n",
    "![Standardized Logistic Regrssion](figures/standardized_lr.png)\n",
    "\n",
    "We start by writing the necessary *processors*, which declare inputs and outputs.\n",
    "Note that *processors* can depend on parameters both on the `__init__` and `process` methods, as\n",
    "shown below.\n"
   ]
  },
  {
   "cell_type": "code",
   "execution_count": null,
   "id": "d27108cb-cda8-4630-ad52-a8102faa1ccc",
   "metadata": {
    "execution": {
     "iopub.execute_input": "2022-11-23T18:11:31.645226Z",
     "iopub.status.busy": "2022-11-23T18:11:31.644446Z",
     "iopub.status.idle": "2022-11-23T18:11:31.652792Z",
     "shell.execute_reply": "2022-11-23T18:11:31.652047Z",
     "shell.execute_reply.started": "2022-11-23T18:11:31.645165Z"
    },
    "tags": []
   },
   "outputs": [],
   "source": [
    "from typing import TypedDict\n",
    "\n",
    "StandardizeTrainOut = TypedDict(\"StandardizeTrainOut\", {\"mean\": float, \"scale\": float, \"Z_train\": float})\n",
    "StandardizeEvalOut = TypedDict(\"StandardizeEvalOut\", {\"Z_eval\": float})\n",
    "LogisticRegressionTrainOut = TypedDict(\"LogisticRegressionTrainOut\", {\"model\": tuple[float], \"Z_train\": float})\n",
    "LogisticRegressionEvalOut = TypedDict(\"LogisticRegressionEvalOut\", {\"Z_eval\": float})\n",
    "\n",
    "class StandardizeTrain():\n",
    "    def process(self, X_train: float) -> StandardizeTrainOut:\n",
    "        ...\n",
    "\n",
    "class StandardizeEval():\n",
    "    def __init__(self, mean: float, scale: float) -> None:\n",
    "        ...\n",
    "\n",
    "    def process(self, X_eval: float) -> StandardizeEvalOut:\n",
    "        ...\n",
    "\n",
    "class LogisticRegressionTrain():\n",
    "    def process(self, X_train: float, Y_train: float) -> LogisticRegressionTrainOut:\n",
    "        ...\n",
    "\n",
    "class LogisticRegressionEval():\n",
    "    def __init__(self, model: tuple[float, ...]) -> None:\n",
    "        ...\n",
    "\n",
    "    def process(self, X_eval: float, Y_eval: float) -> LogisticRegressionEvalOut:\n",
    "        ..."
   ]
  },
  {
   "cell_type": "markdown",
   "id": "fa7ef338-c065-4c7a-a08f-27b5dd768f92",
   "metadata": {},
   "source": [
    "We create single node pipelines, aka. *tasks*, and combine them, similar to how we did with in the\n",
    "diamond pipeline example, to create `standardization` and `logistic_regression`.\n",
    "They are all independent, each composed of two nodes and dependencies between them:\n"
   ]
  },
  {
   "cell_type": "code",
   "execution_count": null,
   "id": "14b85ebb-2927-4743-9be2-54a3a864265d",
   "metadata": {
    "execution": {
     "iopub.execute_input": "2022-11-23T18:11:33.396060Z",
     "iopub.status.busy": "2022-11-23T18:11:33.395582Z",
     "iopub.status.idle": "2022-11-23T18:11:33.405294Z",
     "shell.execute_reply": "2022-11-23T18:11:33.404597Z",
     "shell.execute_reply.started": "2022-11-23T18:11:33.396029Z"
    },
    "tags": []
   },
   "outputs": [],
   "source": [
    "from oneml.processors import PipelineBuilder, PipelineRunner\n",
    "\n",
    "stz_train = PipelineBuilder.task(StandardizeTrain, \"stz_train\")\n",
    "stz_eval = PipelineBuilder.task(StandardizeEval, \"stz_eval\")\n",
    "lr_train = PipelineBuilder.task(LogisticRegressionTrain, \"lr_train\")\n",
    "lr_eval = PipelineBuilder.task(LogisticRegressionEval, \"lr_eval\")\n",
    "\n",
    "standardization = PipelineBuilder.combine(\n",
    "    stz_train, stz_eval,\n",
    "    dependencies=(\n",
    "        stz_eval.inputs.mean << stz_train.outputs.mean,\n",
    "        stz_eval.inputs.scale << stz_train.outputs.scale,\n",
    "    ),\n",
    "    name=\"standardization\"\n",
    ")\n",
    "\n",
    "logistic_regression = PipelineBuilder.combine(\n",
    "    lr_train, lr_eval,\n",
    "    dependencies=(\n",
    "        lr_eval.inputs.model << lr_train.outputs.model,\n",
    "    ),\n",
    "    name=\"logistic_regression\"\n",
    ")"
   ]
  },
  {
   "cell_type": "markdown",
   "id": "d8c695f6-2c0d-4b71-bb90-828ecb80c7c8",
   "metadata": {},
   "source": [
    "The next step is to combine both pipelines into a single one and connect all dependencies\n",
    "between them.\n"
   ]
  },
  {
   "cell_type": "code",
   "execution_count": null,
   "id": "8c58410a-422a-42dd-af4d-1bb4f88359a3",
   "metadata": {
    "execution": {
     "iopub.execute_input": "2022-11-23T18:11:57.116528Z",
     "iopub.status.busy": "2022-11-23T18:11:57.116047Z",
     "iopub.status.idle": "2022-11-23T18:11:57.445685Z",
     "shell.execute_reply": "2022-11-23T18:11:57.444849Z",
     "shell.execute_reply.started": "2022-11-23T18:11:57.116497Z"
    },
    "tags": []
   },
   "outputs": [],
   "source": [
    "from oneml.processors import display_dag\n",
    "\n",
    "standardized_lr = PipelineBuilder.combine(\n",
    "    standardization, logistic_regression,\n",
    "    name=\"standardized_lr\",\n",
    "    dependencies=(\n",
    "        logistic_regression.inputs.X_train << standardization.outputs.Z_train,\n",
    "        logistic_regression.inputs.X_eval << standardization.outputs.Z_eval,\n",
    "    )\n",
    ")\n",
    "\n",
    "display_dag(standardized_lr) # displays the pipeline"
   ]
  },
  {
   "cell_type": "markdown",
   "id": "e570cd68-3f0d-4687-be3c-284189e70fe0",
   "metadata": {},
   "source": [
    "There are a few points to clarify here.\n",
    "First, combining pipelines of a single node, two nodes or more, are synthactically the same.\n",
    "It does not matter how many nodes pipeline have, as long as inputs and outputs and dependencies are\n",
    "correctly specified when combining.\n",
    "\n",
    "Second, pipelines can be combined in different order and the resulting pipeline can be the same.\n",
    "In this example, we first built the standardization and logistic_regression pipelines, and then\n",
    "compose these together.\n",
    "It needn't have been so and we show below two alternatives that yield the same pipeline.\n",
    "\n",
    "Third, the *processors* that we defined above do not have conflicting output names, i.e., all\n",
    "output variable names are different.\n",
    "This simplifies the exposition of the example, but in the [intermediate tutorial](intermediate.md)\n",
    "we explain when we combine pipelines that expose the same output variable names.\n"
   ]
  },
  {
   "cell_type": "markdown",
   "id": "a6637662-cc6d-4589-845b-9596a8ce2e15",
   "metadata": {},
   "source": [
    "### A Second Alternative to Standardized Logistic Regression Example\n",
    "\n",
    "As explained before, we built `standardized_lr` by first building `standardization` and\n",
    "`logistic_regression` first and then combining them.\n",
    "\n",
    "An alternative is to first build the `train` and `eval` pipelines separately, and then combine\n",
    "them.\n",
    "The following code yields the same resulting pipeline:\n"
   ]
  },
  {
   "cell_type": "code",
   "execution_count": null,
   "id": "f7690fe6-87d3-4134-8746-2da0c1e29a5e",
   "metadata": {
    "execution": {
     "iopub.execute_input": "2022-11-23T18:11:58.749056Z",
     "iopub.status.busy": "2022-11-23T18:11:58.748317Z",
     "iopub.status.idle": "2022-11-23T18:11:59.078508Z",
     "shell.execute_reply": "2022-11-23T18:11:59.077285Z",
     "shell.execute_reply.started": "2022-11-23T18:11:58.749022Z"
    },
    "tags": []
   },
   "outputs": [],
   "source": [
    "train_pipeline = PipelineBuilder.combine(\n",
    "    stz_train, lr_train,\n",
    "    name=\"train_pipeline\",\n",
    "    dependencies=(\n",
    "        lr_train.inputs.X_train << stz_train.outputs.Z_train,\n",
    "    )\n",
    ")\n",
    "\n",
    "eval_pipeline = PipelineBuilder.combine(\n",
    "    stz_eval, lr_eval,\n",
    "    name=\"eval_pipeline\",\n",
    "    dependencies=(\n",
    "        lr_eval.inputs.X_eval << stz_eval.outputs.Z_eval,\n",
    "    )\n",
    ")\n",
    "\n",
    "standardized_lr = PipelineBuilder.combine(\n",
    "    train_pipeline, eval_pipeline,\n",
    "    name=\"standardized_lr\",\n",
    "    dependencies=(\n",
    "        eval_pipeline.inputs.mean << train_pipeline.outputs.mean,\n",
    "        eval_pipeline.inputs.scale << train_pipeline.outputs.scale,\n",
    "        eval_pipeline.inputs.model << train_pipeline.outputs.model,\n",
    "    )\n",
    ")\n",
    "\n",
    "display_dag(standardized_lr) # displays the pipeline"
   ]
  },
  {
   "cell_type": "markdown",
   "id": "c1fe731d-c799-4b4a-9237-02f78dbef67a",
   "metadata": {},
   "source": [
    "There is no difference between `standardize_lr` pipelines obtained from these two procedures, the\n",
    "resulting pipelines are exactly the same.\n"
   ]
  },
  {
   "cell_type": "markdown",
   "id": "ce29dd25-31f6-4ea6-8cdd-fbe8e2b7ab94",
   "metadata": {},
   "source": [
    "### A Third Alternative to Standardized Logistic Regression Example\n",
    "\n",
    "A third alternative is to build the whole pipeline in a single combine operation.\n",
    "The only drawback to doing it this way is that pipelines are less modular, in a conceptual sense,\n",
    "to share between users, whereas the first and second approach encapsulate the concepts and make\n",
    "those explicit to share, via standardization / logistic_regression, or via train / eval pipelines,\n",
    "respectively.\n"
   ]
  },
  {
   "cell_type": "code",
   "execution_count": null,
   "id": "4eeef3db-76f3-40b4-bcbe-37a4a7f7c567",
   "metadata": {
    "execution": {
     "iopub.execute_input": "2022-11-23T18:12:00.680316Z",
     "iopub.status.busy": "2022-11-23T18:12:00.679565Z",
     "iopub.status.idle": "2022-11-23T18:12:01.002265Z",
     "shell.execute_reply": "2022-11-23T18:12:01.001077Z",
     "shell.execute_reply.started": "2022-11-23T18:12:00.680283Z"
    },
    "tags": []
   },
   "outputs": [],
   "source": [
    "standardized_lr = PipelineBuilder.combine(\n",
    "    stz_train, lr_train, stz_eval, lr_eval,\n",
    "    name=\"standardized_lr\",\n",
    "    dependencies=(\n",
    "        stz_eval.inputs.mean << stz_train.outputs.mean,\n",
    "        stz_eval.inputs.scale << stz_train.outputs.scale,\n",
    "        lr_eval.inputs.model << lr_train.outputs.model,\n",
    "        lr_train.inputs.X_train << stz_train.outputs.Z_train,\n",
    "        lr_eval.inputs.X_eval << stz_eval.outputs.Z_eval\n",
    "    )\n",
    ")\n",
    "\n",
    "display_dag(standardized_lr) # displays the pipeline"
   ]
  },
  {
   "cell_type": "markdown",
   "id": "63b946eb-6730-4ccb-ac86-99cc90f5ef17",
   "metadata": {},
   "source": [
    "## Standardized LR with Data\n",
    "\n",
    "The previous `standardized_lr` had unspecified inputs, in particular, `X` and `Y` have been left\n",
    "unspecified.\n",
    "This means that the pipeline is not runnable yet, but if we connect the missing dependencies, the\n",
    "resulting pipeline will be runnable.\n",
    "\n",
    "As we have already discussed, in terms of results it does not matter the order in which build the\n",
    "pipelines, but encapsulating them as intermediate formulations makes it easier to reuse them.\n",
    "That's why we separated connecting `standardized_lr` to any data.\n"
   ]
  },
  {
   "cell_type": "code",
   "execution_count": null,
   "id": "5e5b975a-f515-4efb-bc2b-001719dcc262",
   "metadata": {
    "execution": {
     "iopub.execute_input": "2022-11-23T18:12:01.966350Z",
     "iopub.status.busy": "2022-11-23T18:12:01.965608Z",
     "iopub.status.idle": "2022-11-23T18:12:02.124914Z",
     "shell.execute_reply": "2022-11-23T18:12:02.124012Z",
     "shell.execute_reply.started": "2022-11-23T18:12:01.966317Z"
    },
    "tags": []
   },
   "outputs": [],
   "source": [
    "LoadDataOut = TypedDict(\"LoadDataOut\", {\"X_train\": float, \"X_eval\": float, \"Y_train\": float, \"Y_eval\": float})\n",
    "\n",
    "class LoadData:\n",
    "    def process(self) -> LoadDataOut:\n",
    "        ...\n",
    "\n",
    "load_data = PipelineBuilder.task(LoadData, \"load_data\")\n",
    "\n",
    "final_pipeline = PipelineBuilder.combine(\n",
    "    load_data, standardized_lr,\n",
    "    name=\"final_pipeline\",\n",
    "    dependencies=(\n",
    "        standardized_lr.inputs.X_train << load_data.outputs.X_train,\n",
    "        standardized_lr.inputs.X_eval << load_data.outputs.X_eval,\n",
    "        standardized_lr.inputs.Y_train << load_data.outputs.Y_train,\n",
    "        standardized_lr.inputs.Y_eval << load_data.outputs.Y_eval,\n",
    "    )\n",
    ")\n",
    "\n",
    "display_dag(final_pipeline) # displays the pipeline"
   ]
  }
 ],
 "metadata": {
  "kernelspec": {
   "display_name": "Python 3.10.6 ('oneml-app-HvMeh-nl-py3.10')",
   "language": "python",
   "name": "python3"
  },
  "language_info": {
   "codemirror_mode": {
    "name": "ipython",
    "version": 3
   },
   "file_extension": ".py",
   "mimetype": "text/x-python",
   "name": "python",
   "nbconvert_exporter": "python",
   "pygments_lexer": "ipython3",
   "version": "3.10.6"
  },
  "vscode": {
   "interpreter": {
    "hash": "118274ffcdc0169b3c4a867cb488386328c6727e3b0844e9bd2c3e369f2ace34"
   }
  },
  "widgets": {
   "application/vnd.jupyter.widget-state+json": {
    "state": {},
    "version_major": 2,
    "version_minor": 0
   }
  }
 },
 "nbformat": 4,
 "nbformat_minor": 5
}
